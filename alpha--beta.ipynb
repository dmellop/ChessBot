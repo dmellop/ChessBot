{
 "cells": [
  {
   "cell_type": "code",
   "execution_count": 1,
   "metadata": {
    "collapsed": false
   },
   "outputs": [],
   "source": [
    "import chess\n",
    "import chess.pgn\n",
    "import math \n",
    "import network\n",
    "import tensorflow as tf\n",
    "import games_parser as gp\n",
    "import itertools as it\n",
    "import numpy as np\n",
    "import tfdeploy as td\n",
    "import time\n",
    "from IPython.display import SVG, display"
   ]
  },
  {
   "cell_type": "code",
   "execution_count": 2,
   "metadata": {
    "collapsed": true
   },
   "outputs": [],
   "source": [
    "mode = td.Model(\"model.pkl\")\n",
    "x1, x2, y = mode.get(\"position_one\", \"position_two\", \"answer\")\n",
    "\n",
    "def eval_func(pos1, pos2): \n",
    "    r = y.eval({x1:pos1, x2:pos2})\n",
    "    return r"
   ]
  },
  {
   "cell_type": "code",
   "execution_count": 3,
   "metadata": {
    "collapsed": true
   },
   "outputs": [],
   "source": [
    "# def eval_func(pos1, pos2): \n",
    "#     with tf.Graph().as_default() as g:\n",
    "#         with tf.Session(config=tf.ConfigProto( allow_soft_placement=True,log_device_placement=True)) as sess:\n",
    "#             x1_ = tf.placeholder(tf.float32, shape=[1,773], name=\"position_one\")\n",
    "#             x2_ = tf.placeholder(tf.float32, shape=[1,773], name=\"position_two\")\n",
    "#             result = network.supervised_model(x1_, x2_)\n",
    "#             ans = tf.nn.softmax(result, name = \"answer\")\n",
    "#             all_vars = tf.get_collection(tf.GraphKeys.TRAINABLE_VARIABLES)\n",
    "#             auto_weights = []\n",
    "#             for scope_name in ['encode1', 'encode2', 'encode3', 'encode4'] :\n",
    "#                 auto_weights.append(tf.get_collection(tf.GraphKeys.TRAINABLE_VARIABLES, scope= scope_name) )\n",
    "\n",
    "\n",
    "#                 model_path= \"./tmp2/feed_forward.ckpt\"\n",
    "#                 for level, ae_vars in enumerate(auto_weights):\n",
    "#                     ae_saver = tf.train.Saver( ae_vars  )\n",
    "#                     ae_saver.restore(sess, './tmp2/encoder_ae{}.ckpt'.format(level+1) )\n",
    "\n",
    "#                 saver = tf.train.Saver(all_vars)\n",
    "#                 saver.restore(sess, model_path)  \n",
    "\n",
    "#                 return(sess.run( ans, feed_dict={x1_: pos1, x2_: pos2} ))\n"
   ]
  },
  {
   "cell_type": "code",
   "execution_count": 4,
   "metadata": {
    "collapsed": true
   },
   "outputs": [],
   "source": [
    "def get_bit( board ):\n",
    "    '''\n",
    "    Input :\n",
    "        board = copy of the board on which the game is played\n",
    "        move = \"e2e4\" style \n",
    "    '''\n",
    "    # FEN represntation of the board\n",
    "    position = board.board_fen() \n",
    "    # A board representing the position of chess pieces.\n",
    "    baseboard = chess.BaseBoard(position) \n",
    "    bit_b = gp.bit_board_gen(board, baseboard, \"0\")\n",
    "    bit_b.pop()\n",
    "    return np.array([bit_b])\n",
    "    "
   ]
  },
  {
   "cell_type": "code",
   "execution_count": 5,
   "metadata": {
    "collapsed": true
   },
   "outputs": [],
   "source": [
    "def better( move1, move2 ):\n",
    "    index = np.argmax( eval_func(get_bit(move1), get_bit(move2) )[0] ) \n",
    "    return (move1, move2)[index]\n",
    "\n",
    "def worse( move1, move2 ):\n",
    "    index = np.argmin( eval_func(get_bit(move1), get_bit(move2) )[0] ) \n",
    "    return (move1, move2)[index]"
   ]
  },
  {
   "cell_type": "code",
   "execution_count": 6,
   "metadata": {
    "collapsed": true
   },
   "outputs": [],
   "source": [
    "def argmaxi(state, function):\n",
    "    \n",
    "    def pusher(board, move):\n",
    "        b = board.copy()\n",
    "        b.push(move)\n",
    "        return b\n",
    "\n",
    "    seq = list( map( lambda move: pusher(state, move) , state.legal_moves  ) ) \n",
    "    \n",
    "    best_move, best_score = seq[0], function(seq[0])\n",
    "\n",
    "    for node in (seq):\n",
    "        value = function(node)\n",
    "        if better(best_move, node) == node :\n",
    "            best_move, best_score = node, value\n",
    "            \n",
    "    return best_move"
   ]
  },
  {
   "cell_type": "code",
   "execution_count": 22,
   "metadata": {
    "collapsed": false
   },
   "outputs": [],
   "source": [
    "def alphabeta_search(state, d=5, cutoff_test=None):\n",
    "    \"\"\"Search game to determine best action; use alpha-beta pruning.\n",
    "    This version cuts off search and uses an evaluation function.\"\"\"\n",
    "\n",
    "    def max_value(state, alpha, beta, depth):\n",
    "        if cutoff_test(state, depth):\n",
    "            return state\n",
    "        v = -math.inf\n",
    "        for mv in state.legal_moves:\n",
    "            s = state.copy()\n",
    "            s.push(mv)\n",
    "            \n",
    "            if v == -math.inf:\n",
    "                v = min_value(s,alpha,beta,depth+1)\n",
    "            if beta ==  math.inf:   \n",
    "                beta = v\n",
    "                \n",
    "            v = better(v, min_value(s, alpha, beta, depth+1))\n",
    "            if beta != math.inf:\n",
    "                if better(v, beta) == v :\n",
    "                    return v\n",
    "            alpha = better(alpha, v)\n",
    "        return v\n",
    "\n",
    "    def min_value(state, alpha, beta, depth):\n",
    "        if cutoff_test(state, depth):\n",
    "            return state\n",
    "        v = math.inf\n",
    "        for mv in state.legal_moves:\n",
    "            s = state.copy()\n",
    "            s.push(mv)\n",
    "            \n",
    "            if v == math.inf:\n",
    "                v = max_value(s,alpha,beta,depth+1)\n",
    "            if alpha == -math.inf:\n",
    "                alpha = v\n",
    "                \n",
    "            v = worse(v, max_value(s, alpha, beta, depth+1))\n",
    "            if alpha != -math.inf:\n",
    "                if worse(v, alpha) == v :\n",
    "                    return v\n",
    "            beta = worse(beta, v)\n",
    "        return v\n",
    "   \n",
    "    cutoff_test = (cutoff_test or\n",
    "                   (lambda state,depth: depth>d or state.is_game_over()))\n",
    "    \n",
    "    action  = argmaxi(state, lambda board : min_value(board, -math.inf, math.inf, 0))\n",
    "    return action"
   ]
  },
  {
   "cell_type": "code",
   "execution_count": 8,
   "metadata": {
    "collapsed": true
   },
   "outputs": [],
   "source": [
    "def anthony_joshua(state):\n",
    "    return alphabeta_search(state)\n"
   ]
  },
  {
   "cell_type": "code",
   "execution_count": 9,
   "metadata": {
    "collapsed": true
   },
   "outputs": [],
   "source": [
    "# m = chess.Board('rnbqkbnr/pppppppp/8/8/4P3/8/PPPP1PPP/RNBQKBNR w KQkq - 0 1') \n",
    "# v = chess.Board('rnbqkbnr/pppppppp/8/8/3P4/8/PPP1PPPP/RNBQKBNR w KQkq - 0 1')"
   ]
  },
  {
   "cell_type": "code",
   "execution_count": 10,
   "metadata": {
    "collapsed": false
   },
   "outputs": [],
   "source": [
    "def users_move(board):\n",
    "    while True:\n",
    "        try:\n",
    "            move = input(\"Enter your move in ''Nb1a3'' style \\n\")\n",
    "            board.push_san(move)\n",
    "            break\n",
    "        except ValueError:\n",
    "            print(\"Ambiguous Move..\")\n",
    "    return board"
   ]
  },
  {
   "cell_type": "code",
   "execution_count": 16,
   "metadata": {
    "collapsed": false
   },
   "outputs": [],
   "source": [
    "def playgame():\n",
    "    moveTotal = 0;\n",
    "    board = chess.Board()\n",
    "    while board.is_game_over() == False:\n",
    "        if moveTotal % 2 == 1:\n",
    "            board = users_move(board)\n",
    "        else:\n",
    "            st = time.time()\n",
    "            board = anthony_joshua(board)\n",
    "            print(\"MoveTime:\", time.time() -st)\n",
    "        print(display(board))\n",
    "        moveTotal = moveTotal+1\n",
    "    print(\"Game-over\")"
   ]
  },
  {
   "cell_type": "code",
   "execution_count": null,
   "metadata": {
    "collapsed": true
   },
   "outputs": [],
   "source": [
    "m1 = chess.Board('rqb2rk1/3nbppQ/p2pp3/4P1P1/1p1B1P2/2NB4/PPP4P/2KR3R w Kq - 0 1')\n",
    "m2 = chess.Board('Qqb2rk1/3nbpp1/p2pp3/4P1P1/1p1B1P2/2NB4/PPP4P/2KR3R w Kq - 0 10')"
   ]
  },
  {
   "cell_type": "code",
   "execution_count": 59,
   "metadata": {
    "collapsed": false
   },
   "outputs": [
    {
     "name": "stderr",
     "output_type": "stream",
     "text": [
      "C:\\Users\\User\\Anaconda3\\lib\\site-packages\\tfdeploy.py:2081: RuntimeWarning: overflow encountered in exp\n",
      "  e = np.exp(a)\n",
      "C:\\Users\\User\\Anaconda3\\lib\\site-packages\\tfdeploy.py:2082: RuntimeWarning: invalid value encountered in true_divide\n",
      "  return np.divide(e, np.sum(e, axis=-1, keepdims=True)),\n"
     ]
    },
    {
     "data": {
      "image/svg+xml": [
       "<svg xmlns=\"http://www.w3.org/2000/svg\" version=\"1.1\" xmlns:xlink=\"http://www.w3.org/1999/xlink\" width=\"400\" height=\"400\"><style>.check {\n",
       "  fill: url(#check_gradient);\n",
       "}\n",
       "</style><defs><g id=\"black-pawn\" class=\"black pawn\"><path d=\"M22 9c-2.21 0-4 1.79-4 4 0 .89.29 1.71.78 2.38-1.95 1.12-3.28 3.21-3.28 5.62 0 2.03.94 3.84 2.41 5.03-3 1.06-7.41 5.55-7.41 13.47h23c0-7.92-4.41-12.41-7.41-13.47 1.47-1.19 2.41-3 2.41-5.03 0-2.41-1.33-4.5-3.28-5.62.49-.67.78-1.49.78-2.38 0-2.21-1.79-4-4-4z\" stroke=\"#000\" stroke-width=\"1.5\" stroke-linecap=\"round\"/></g><g id=\"black-king\" class=\"black king\" fill=\"none\" fill-rule=\"evenodd\" stroke=\"#000\" stroke-width=\"1.5\" stroke-linecap=\"round\" stroke-linejoin=\"round\"><path d=\"M22.5 11.63V6\" stroke-linejoin=\"miter\"/><path d=\"M22.5 25s4.5-7.5 3-10.5c0 0-1-2.5-3-2.5s-3 2.5-3 2.5c-1.5 3 3 10.5 3 10.5\" fill=\"#000\" stroke-linecap=\"butt\" stroke-linejoin=\"miter\"/><path d=\"M11.5 37c5.5 3.5 15.5 3.5 21 0v-7s9-4.5 6-10.5c-4-6.5-13.5-3.5-16 4V27v-3.5c-3.5-7.5-13-10.5-16-4-3 6 5 10 5 10V37z\" fill=\"#000\"/><path d=\"M20 8h5\" stroke-linejoin=\"miter\"/><path d=\"M32 29.5s8.5-4 6.03-9.65C34.15 14 25 18 22.5 24.5l.01 2.1-.01-2.1C20 18 9.906 14 6.997 19.85c-2.497 5.65 4.853 9 4.853 9M11.5 30c5.5-3 15.5-3 21 0m-21 3.5c5.5-3 15.5-3 21 0m-21 3.5c5.5-3 15.5-3 21 0\" stroke=\"#fff\"/></g><g id=\"white-bishop\" class=\"white bishop\" fill=\"none\" fill-rule=\"evenodd\" stroke=\"#000\" stroke-width=\"1.5\" stroke-linecap=\"round\" stroke-linejoin=\"round\"><g fill=\"#fff\" stroke-linecap=\"butt\"><path d=\"M9 36c3.39-.97 10.11.43 13.5-2 3.39 2.43 10.11 1.03 13.5 2 0 0 1.65.54 3 2-.68.97-1.65.99-3 .5-3.39-.97-10.11.46-13.5-1-3.39 1.46-10.11.03-13.5 1-1.354.49-2.323.47-3-.5 1.354-1.94 3-2 3-2zM15 32c2.5 2.5 12.5 2.5 15 0 .5-1.5 0-2 0-2 0-2.5-2.5-4-2.5-4 5.5-1.5 6-11.5-5-15.5-11 4-10.5 14-5 15.5 0 0-2.5 1.5-2.5 4 0 0-.5.5 0 2zM25 8a2.5 2.5 0 1 1-5 0 2.5 2.5 0 1 1 5 0z\"/></g><path d=\"M17.5 26h10M15 30h15m-7.5-14.5v5M20 18h5\" stroke-linejoin=\"miter\"/></g><g id=\"white-knight\" class=\"white knight\" fill=\"none\" fill-rule=\"evenodd\" stroke=\"#000\" stroke-width=\"1.5\" stroke-linecap=\"round\" stroke-linejoin=\"round\"><path d=\"M 22,10 C 32.5,11 38.5,18 38,39 L 15,39 C 15,30 25,32.5 23,18\" style=\"fill:#ffffff; stroke:#000000;\"/><path d=\"M 24,18 C 24.38,20.91 18.45,25.37 16,27 C 13,29 13.18,31.34 11,31 C 9.958,30.06 12.41,27.96 11,28 C 10,28 11.19,29.23 10,30 C 9,30 5.997,31 6,26 C 6,24 12,14 12,14 C 12,14 13.89,12.1 14,10.5 C 13.27,9.506 13.5,8.5 13.5,7.5 C 14.5,6.5 16.5,10 16.5,10 L 18.5,10 C 18.5,10 19.28,8.008 21,7 C 22,7 22,10 22,10\" style=\"fill:#ffffff; stroke:#000000;\"/><path d=\"M 9.5 25.5 A 0.5 0.5 0 1 1 8.5,25.5 A 0.5 0.5 0 1 1 9.5 25.5 z\" style=\"fill:#000000; stroke:#000000;\"/><path d=\"M 15 15.5 A 0.5 1.5 0 1 1 14,15.5 A 0.5 1.5 0 1 1 15 15.5 z\" transform=\"matrix(0.866,0.5,-0.5,0.866,9.693,-5.173)\" style=\"fill:#000000; stroke:#000000;\"/></g><g id=\"white-rook\" class=\"white rook\" fill=\"#fff\" fill-rule=\"evenodd\" stroke=\"#000\" stroke-width=\"1.5\" stroke-linecap=\"round\" stroke-linejoin=\"round\"><path d=\"M9 39h27v-3H9v3zM12 36v-4h21v4H12zM11 14V9h4v2h5V9h5v2h5V9h4v5\" stroke-linecap=\"butt\"/><path d=\"M34 14l-3 3H14l-3-3\"/><path d=\"M31 17v12.5H14V17\" stroke-linecap=\"butt\" stroke-linejoin=\"miter\"/><path d=\"M31 29.5l1.5 2.5h-20l1.5-2.5\"/><path d=\"M11 14h23\" fill=\"none\" stroke-linejoin=\"miter\"/></g><g id=\"black-knight\" class=\"black knight\" fill=\"none\" fill-rule=\"evenodd\" stroke=\"#000\" stroke-width=\"1.5\" stroke-linecap=\"round\" stroke-linejoin=\"round\"><path d=\"M 22,10 C 32.5,11 38.5,18 38,39 L 15,39 C 15,30 25,32.5 23,18\" style=\"fill:#000000; stroke:#000000;\"/><path d=\"M 24,18 C 24.38,20.91 18.45,25.37 16,27 C 13,29 13.18,31.34 11,31 C 9.958,30.06 12.41,27.96 11,28 C 10,28 11.19,29.23 10,30 C 9,30 5.997,31 6,26 C 6,24 12,14 12,14 C 12,14 13.89,12.1 14,10.5 C 13.27,9.506 13.5,8.5 13.5,7.5 C 14.5,6.5 16.5,10 16.5,10 L 18.5,10 C 18.5,10 19.28,8.008 21,7 C 22,7 22,10 22,10\" style=\"fill:#000000; stroke:#000000;\"/><path d=\"M 9.5 25.5 A 0.5 0.5 0 1 1 8.5,25.5 A 0.5 0.5 0 1 1 9.5 25.5 z\" style=\"fill:#ececec; stroke:#ececec;\"/><path d=\"M 15 15.5 A 0.5 1.5 0 1 1 14,15.5 A 0.5 1.5 0 1 1 15 15.5 z\" transform=\"matrix(0.866,0.5,-0.5,0.866,9.693,-5.173)\" style=\"fill:#ececec; stroke:#ececec;\"/><path d=\"M 24.55,10.4 L 24.1,11.85 L 24.6,12 C 27.75,13 30.25,14.49 32.5,18.75 C 34.75,23.01 35.75,29.06 35.25,39 L 35.2,39.5 L 37.45,39.5 L 37.5,39 C 38,28.94 36.62,22.15 34.25,17.66 C 31.88,13.17 28.46,11.02 25.06,10.5 L 24.55,10.4 z \" style=\"fill:#ececec; stroke:none;\"/></g><g id=\"black-queen\" class=\"black queen\" fill=\"#000\" fill-rule=\"evenodd\" stroke=\"#000\" stroke-width=\"1.5\" stroke-linecap=\"round\" stroke-linejoin=\"round\"><g fill=\"#000\" stroke=\"none\"><circle cx=\"6\" cy=\"12\" r=\"2.75\"/><circle cx=\"14\" cy=\"9\" r=\"2.75\"/><circle cx=\"22.5\" cy=\"8\" r=\"2.75\"/><circle cx=\"31\" cy=\"9\" r=\"2.75\"/><circle cx=\"39\" cy=\"12\" r=\"2.75\"/></g><path d=\"M9 26c8.5-1.5 21-1.5 27 0l2.5-12.5L31 25l-.3-14.1-5.2 13.6-3-14.5-3 14.5-5.2-13.6L14 25 6.5 13.5 9 26zM9 26c0 2 1.5 2 2.5 4 1 1.5 1 1 .5 3.5-1.5 1-1.5 2.5-1.5 2.5-1.5 1.5.5 2.5.5 2.5 6.5 1 16.5 1 23 0 0 0 1.5-1 0-2.5 0 0 .5-1.5-1-2.5-.5-2.5-.5-2 .5-3.5 1-2 2.5-2 2.5-4-8.5-1.5-18.5-1.5-27 0z\" stroke-linecap=\"butt\"/><path d=\"M11 38.5a35 35 1 0 0 23 0\" fill=\"none\" stroke-linecap=\"butt\"/><path d=\"M11 29a35 35 1 0 1 23 0M12.5 31.5h20M11.5 34.5a35 35 1 0 0 22 0M10.5 37.5a35 35 1 0 0 24 0\" fill=\"none\" stroke=\"#fff\"/></g><g id=\"white-pawn\" class=\"white pawn\"><path d=\"M22 9c-2.21 0-4 1.79-4 4 0 .89.29 1.71.78 2.38-1.95 1.12-3.28 3.21-3.28 5.62 0 2.03.94 3.84 2.41 5.03-3 1.06-7.41 5.55-7.41 13.47h23c0-7.92-4.41-12.41-7.41-13.47 1.47-1.19 2.41-3 2.41-5.03 0-2.41-1.33-4.5-3.28-5.62.49-.67.78-1.49.78-2.38 0-2.21-1.79-4-4-4z\" fill=\"#fff\" stroke=\"#000\" stroke-width=\"1.5\" stroke-linecap=\"round\"/></g><g id=\"black-bishop\" class=\"black bishop\" fill=\"none\" fill-rule=\"evenodd\" stroke=\"#000\" stroke-width=\"1.5\" stroke-linecap=\"round\" stroke-linejoin=\"round\"><path d=\"M9 36c3.39-.97 10.11.43 13.5-2 3.39 2.43 10.11 1.03 13.5 2 0 0 1.65.54 3 2-.68.97-1.65.99-3 .5-3.39-.97-10.11.46-13.5-1-3.39 1.46-10.11.03-13.5 1-1.354.49-2.323.47-3-.5 1.354-1.94 3-2 3-2zm6-4c2.5 2.5 12.5 2.5 15 0 .5-1.5 0-2 0-2 0-2.5-2.5-4-2.5-4 5.5-1.5 6-11.5-5-15.5-11 4-10.5 14-5 15.5 0 0-2.5 1.5-2.5 4 0 0-.5.5 0 2zM25 8a2.5 2.5 0 1 1-5 0 2.5 2.5 0 1 1 5 0z\" fill=\"#000\" stroke-linecap=\"butt\"/><path d=\"M17.5 26h10M15 30h15m-7.5-14.5v5M20 18h5\" stroke=\"#fff\" stroke-linejoin=\"miter\"/></g><g id=\"white-queen\" class=\"white queen\" fill=\"#fff\" fill-rule=\"evenodd\" stroke=\"#000\" stroke-width=\"1.5\" stroke-linecap=\"round\" stroke-linejoin=\"round\"><path d=\"M8 12a2 2 0 1 1-4 0 2 2 0 1 1 4 0zM24.5 7.5a2 2 0 1 1-4 0 2 2 0 1 1 4 0zM41 12a2 2 0 1 1-4 0 2 2 0 1 1 4 0zM16 8.5a2 2 0 1 1-4 0 2 2 0 1 1 4 0zM33 9a2 2 0 1 1-4 0 2 2 0 1 1 4 0z\"/><path d=\"M9 26c8.5-1.5 21-1.5 27 0l2-12-7 11V11l-5.5 13.5-3-15-3 15-5.5-14V25L7 14l2 12zM9 26c0 2 1.5 2 2.5 4 1 1.5 1 1 .5 3.5-1.5 1-1.5 2.5-1.5 2.5-1.5 1.5.5 2.5.5 2.5 6.5 1 16.5 1 23 0 0 0 1.5-1 0-2.5 0 0 .5-1.5-1-2.5-.5-2.5-.5-2 .5-3.5 1-2 2.5-2 2.5-4-8.5-1.5-18.5-1.5-27 0z\" stroke-linecap=\"butt\"/><path d=\"M11.5 30c3.5-1 18.5-1 22 0M12 33.5c6-1 15-1 21 0\" fill=\"none\"/></g><g id=\"black-rook\" class=\"black rook\" fill=\"#000\" fill-rule=\"evenodd\" stroke=\"#000\" stroke-width=\"1.5\" stroke-linecap=\"round\" stroke-linejoin=\"round\"><path d=\"M9 39h27v-3H9v3zM12.5 32l1.5-2.5h17l1.5 2.5h-20zM12 36v-4h21v4H12z\" stroke-linecap=\"butt\"/><path d=\"M14 29.5v-13h17v13H14z\" stroke-linecap=\"butt\" stroke-linejoin=\"miter\"/><path d=\"M14 16.5L11 14h23l-3 2.5H14zM11 14V9h4v2h5V9h5v2h5V9h4v5H11z\" stroke-linecap=\"butt\"/><path d=\"M12 35.5h21M13 31.5h19M14 29.5h17M14 16.5h17M11 14h23\" fill=\"none\" stroke=\"#fff\" stroke-width=\"1\" stroke-linejoin=\"miter\"/></g><g id=\"white-king\" class=\"white king\" fill=\"none\" fill-rule=\"evenodd\" stroke=\"#000\" stroke-width=\"1.5\" stroke-linecap=\"round\" stroke-linejoin=\"round\"><path d=\"M22.5 11.63V6M20 8h5\" stroke-linejoin=\"miter\"/><path d=\"M22.5 25s4.5-7.5 3-10.5c0 0-1-2.5-3-2.5s-3 2.5-3 2.5c-1.5 3 3 10.5 3 10.5\" fill=\"#fff\" stroke-linecap=\"butt\" stroke-linejoin=\"miter\"/><path d=\"M11.5 37c5.5 3.5 15.5 3.5 21 0v-7s9-4.5 6-10.5c-4-6.5-13.5-3.5-16 4V27v-3.5c-3.5-7.5-13-10.5-16-4-3 6 5 10 5 10V37z\" fill=\"#fff\"/><path d=\"M11.5 30c5.5-3 15.5-3 21 0m-21 3.5c5.5-3 15.5-3 21 0m-21 3.5c5.5-3 15.5-3 21 0\"/></g></defs><rect x=\"20.000000\" y=\"335.000000\" class=\"square dark a1\" width=\"45.000000\" height=\"45.000000\" style=\"stroke: none;\" fill=\"#d18b47\" /><rect x=\"65.000000\" y=\"335.000000\" class=\"square light b1\" width=\"45.000000\" height=\"45.000000\" style=\"stroke: none;\" fill=\"#ffce9e\" /><rect x=\"110.000000\" y=\"335.000000\" class=\"square dark c1\" width=\"45.000000\" height=\"45.000000\" style=\"stroke: none;\" fill=\"#d18b47\" /><rect x=\"155.000000\" y=\"335.000000\" class=\"square light d1\" width=\"45.000000\" height=\"45.000000\" style=\"stroke: none;\" fill=\"#ffce9e\" /><rect x=\"200.000000\" y=\"335.000000\" class=\"square dark e1\" width=\"45.000000\" height=\"45.000000\" style=\"stroke: none;\" fill=\"#d18b47\" /><rect x=\"245.000000\" y=\"335.000000\" class=\"square light f1\" width=\"45.000000\" height=\"45.000000\" style=\"stroke: none;\" fill=\"#ffce9e\" /><rect x=\"290.000000\" y=\"335.000000\" class=\"square dark g1\" width=\"45.000000\" height=\"45.000000\" style=\"stroke: none;\" fill=\"#d18b47\" /><rect x=\"335.000000\" y=\"335.000000\" class=\"square light h1\" width=\"45.000000\" height=\"45.000000\" style=\"stroke: none;\" fill=\"#ffce9e\" /><use xlink:href=\"#black-queen\" transform=\"translate(335.000000, 335.000000) scale(1.000000 1.000000)\" /><rect x=\"20.000000\" y=\"290.000000\" class=\"square light a2\" width=\"45.000000\" height=\"45.000000\" style=\"stroke: none;\" fill=\"#ffce9e\" /><rect x=\"65.000000\" y=\"290.000000\" class=\"square dark b2\" width=\"45.000000\" height=\"45.000000\" style=\"stroke: none;\" fill=\"#d18b47\" /><rect x=\"110.000000\" y=\"290.000000\" class=\"square light c2\" width=\"45.000000\" height=\"45.000000\" style=\"stroke: none;\" fill=\"#ffce9e\" /><use xlink:href=\"#white-pawn\" transform=\"translate(110.000000, 290.000000) scale(1.000000 1.000000)\" /><rect x=\"155.000000\" y=\"290.000000\" class=\"square dark d2\" width=\"45.000000\" height=\"45.000000\" style=\"stroke: none;\" fill=\"#d18b47\" /><use xlink:href=\"#white-king\" transform=\"translate(155.000000, 290.000000) scale(1.000000 1.000000)\" /><rect x=\"200.000000\" y=\"290.000000\" class=\"square light e2\" width=\"45.000000\" height=\"45.000000\" style=\"stroke: none;\" fill=\"#ffce9e\" /><use xlink:href=\"#white-bishop\" transform=\"translate(200.000000, 290.000000) scale(1.000000 1.000000)\" /><rect x=\"245.000000\" y=\"290.000000\" class=\"square dark f2\" width=\"45.000000\" height=\"45.000000\" style=\"stroke: none;\" fill=\"#d18b47\" /><use xlink:href=\"#white-pawn\" transform=\"translate(245.000000, 290.000000) scale(1.000000 1.000000)\" /><rect x=\"290.000000\" y=\"290.000000\" class=\"square light g2\" width=\"45.000000\" height=\"45.000000\" style=\"stroke: none;\" fill=\"#ffce9e\" /><use xlink:href=\"#white-pawn\" transform=\"translate(290.000000, 290.000000) scale(1.000000 1.000000)\" /><rect x=\"335.000000\" y=\"290.000000\" class=\"square dark h2\" width=\"45.000000\" height=\"45.000000\" style=\"stroke: none;\" fill=\"#d18b47\" /><rect x=\"20.000000\" y=\"245.000000\" class=\"square dark a3\" width=\"45.000000\" height=\"45.000000\" style=\"stroke: none;\" fill=\"#d18b47\" /><rect x=\"65.000000\" y=\"245.000000\" class=\"square light b3\" width=\"45.000000\" height=\"45.000000\" style=\"stroke: none;\" fill=\"#ffce9e\" /><rect x=\"110.000000\" y=\"245.000000\" class=\"square dark c3\" width=\"45.000000\" height=\"45.000000\" style=\"stroke: none;\" fill=\"#d18b47\" /><use xlink:href=\"#white-knight\" transform=\"translate(110.000000, 245.000000) scale(1.000000 1.000000)\" /><rect x=\"155.000000\" y=\"245.000000\" class=\"square light d3\" width=\"45.000000\" height=\"45.000000\" style=\"stroke: none;\" fill=\"#ffce9e\" /><rect x=\"200.000000\" y=\"245.000000\" class=\"square dark e3\" width=\"45.000000\" height=\"45.000000\" style=\"stroke: none;\" fill=\"#d18b47\" /><rect x=\"245.000000\" y=\"245.000000\" class=\"square light f3\" width=\"45.000000\" height=\"45.000000\" style=\"stroke: none;\" fill=\"#ffce9e\" /><rect x=\"290.000000\" y=\"245.000000\" class=\"square dark g3\" width=\"45.000000\" height=\"45.000000\" style=\"stroke: none;\" fill=\"#d18b47\" /><rect x=\"335.000000\" y=\"245.000000\" class=\"square light h3\" width=\"45.000000\" height=\"45.000000\" style=\"stroke: none;\" fill=\"#ffce9e\" /><use xlink:href=\"#white-pawn\" transform=\"translate(335.000000, 245.000000) scale(1.000000 1.000000)\" /><rect x=\"20.000000\" y=\"200.000000\" class=\"square light a4\" width=\"45.000000\" height=\"45.000000\" style=\"stroke: none;\" fill=\"#ffce9e\" /><rect x=\"65.000000\" y=\"200.000000\" class=\"square dark b4\" width=\"45.000000\" height=\"45.000000\" style=\"stroke: none;\" fill=\"#d18b47\" /><use xlink:href=\"#white-pawn\" transform=\"translate(65.000000, 200.000000) scale(1.000000 1.000000)\" /><rect x=\"110.000000\" y=\"200.000000\" class=\"square light c4\" width=\"45.000000\" height=\"45.000000\" style=\"stroke: none;\" fill=\"#ffce9e\" /><rect x=\"155.000000\" y=\"200.000000\" class=\"square dark d4\" width=\"45.000000\" height=\"45.000000\" style=\"stroke: none;\" fill=\"#d18b47\" /><use xlink:href=\"#white-pawn\" transform=\"translate(155.000000, 200.000000) scale(1.000000 1.000000)\" /><rect x=\"200.000000\" y=\"200.000000\" class=\"square light lastmove e4\" width=\"45.000000\" height=\"45.000000\" style=\"stroke: none;\" fill=\"#cdd16a\" /><rect x=\"245.000000\" y=\"200.000000\" class=\"square dark f4\" width=\"45.000000\" height=\"45.000000\" style=\"stroke: none;\" fill=\"#d18b47\" /><use xlink:href=\"#white-bishop\" transform=\"translate(245.000000, 200.000000) scale(1.000000 1.000000)\" /><rect x=\"290.000000\" y=\"200.000000\" class=\"square light g4\" width=\"45.000000\" height=\"45.000000\" style=\"stroke: none;\" fill=\"#ffce9e\" /><rect x=\"335.000000\" y=\"200.000000\" class=\"square dark h4\" width=\"45.000000\" height=\"45.000000\" style=\"stroke: none;\" fill=\"#d18b47\" /><rect x=\"20.000000\" y=\"155.000000\" class=\"square dark a5\" width=\"45.000000\" height=\"45.000000\" style=\"stroke: none;\" fill=\"#d18b47\" /><rect x=\"65.000000\" y=\"155.000000\" class=\"square light b5\" width=\"45.000000\" height=\"45.000000\" style=\"stroke: none;\" fill=\"#ffce9e\" /><rect x=\"110.000000\" y=\"155.000000\" class=\"square dark c5\" width=\"45.000000\" height=\"45.000000\" style=\"stroke: none;\" fill=\"#d18b47\" /><rect x=\"155.000000\" y=\"155.000000\" class=\"square light d5\" width=\"45.000000\" height=\"45.000000\" style=\"stroke: none;\" fill=\"#ffce9e\" /><rect x=\"200.000000\" y=\"155.000000\" class=\"square dark e5\" width=\"45.000000\" height=\"45.000000\" style=\"stroke: none;\" fill=\"#d18b47\" /><rect x=\"245.000000\" y=\"155.000000\" class=\"square light f5\" width=\"45.000000\" height=\"45.000000\" style=\"stroke: none;\" fill=\"#ffce9e\" /><rect x=\"290.000000\" y=\"155.000000\" class=\"square dark g5\" width=\"45.000000\" height=\"45.000000\" style=\"stroke: none;\" fill=\"#d18b47\" /><rect x=\"335.000000\" y=\"155.000000\" class=\"square light h5\" width=\"45.000000\" height=\"45.000000\" style=\"stroke: none;\" fill=\"#ffce9e\" /><rect x=\"20.000000\" y=\"110.000000\" class=\"square light a6\" width=\"45.000000\" height=\"45.000000\" style=\"stroke: none;\" fill=\"#ffce9e\" /><rect x=\"65.000000\" y=\"110.000000\" class=\"square dark b6\" width=\"45.000000\" height=\"45.000000\" style=\"stroke: none;\" fill=\"#d18b47\" /><rect x=\"110.000000\" y=\"110.000000\" class=\"square light c6\" width=\"45.000000\" height=\"45.000000\" style=\"stroke: none;\" fill=\"#ffce9e\" /><rect x=\"155.000000\" y=\"110.000000\" class=\"square dark d6\" width=\"45.000000\" height=\"45.000000\" style=\"stroke: none;\" fill=\"#d18b47\" /><rect x=\"200.000000\" y=\"110.000000\" class=\"square light lastmove e6\" width=\"45.000000\" height=\"45.000000\" style=\"stroke: none;\" fill=\"#cdd16a\" /><use xlink:href=\"#white-queen\" transform=\"translate(200.000000, 110.000000) scale(1.000000 1.000000)\" /><rect x=\"245.000000\" y=\"110.000000\" class=\"square dark f6\" width=\"45.000000\" height=\"45.000000\" style=\"stroke: none;\" fill=\"#d18b47\" /><rect x=\"290.000000\" y=\"110.000000\" class=\"square light g6\" width=\"45.000000\" height=\"45.000000\" style=\"stroke: none;\" fill=\"#ffce9e\" /><rect x=\"335.000000\" y=\"110.000000\" class=\"square dark h6\" width=\"45.000000\" height=\"45.000000\" style=\"stroke: none;\" fill=\"#d18b47\" /><rect x=\"20.000000\" y=\"65.000000\" class=\"square dark a7\" width=\"45.000000\" height=\"45.000000\" style=\"stroke: none;\" fill=\"#d18b47\" /><use xlink:href=\"#black-pawn\" transform=\"translate(20.000000, 65.000000) scale(1.000000 1.000000)\" /><rect x=\"65.000000\" y=\"65.000000\" class=\"square light b7\" width=\"45.000000\" height=\"45.000000\" style=\"stroke: none;\" fill=\"#ffce9e\" /><use xlink:href=\"#black-pawn\" transform=\"translate(65.000000, 65.000000) scale(1.000000 1.000000)\" /><rect x=\"110.000000\" y=\"65.000000\" class=\"square dark c7\" width=\"45.000000\" height=\"45.000000\" style=\"stroke: none;\" fill=\"#d18b47\" /><rect x=\"155.000000\" y=\"65.000000\" class=\"square light d7\" width=\"45.000000\" height=\"45.000000\" style=\"stroke: none;\" fill=\"#ffce9e\" /><use xlink:href=\"#black-knight\" transform=\"translate(155.000000, 65.000000) scale(1.000000 1.000000)\" /><rect x=\"200.000000\" y=\"65.000000\" class=\"square dark e7\" width=\"45.000000\" height=\"45.000000\" style=\"stroke: none;\" fill=\"#d18b47\" /><rect x=\"245.000000\" y=\"65.000000\" class=\"square light f7\" width=\"45.000000\" height=\"45.000000\" style=\"stroke: none;\" fill=\"#ffce9e\" /><use xlink:href=\"#black-pawn\" transform=\"translate(245.000000, 65.000000) scale(1.000000 1.000000)\" /><rect x=\"290.000000\" y=\"65.000000\" class=\"square dark g7\" width=\"45.000000\" height=\"45.000000\" style=\"stroke: none;\" fill=\"#d18b47\" /><use xlink:href=\"#black-pawn\" transform=\"translate(290.000000, 65.000000) scale(1.000000 1.000000)\" /><rect x=\"335.000000\" y=\"65.000000\" class=\"square light h7\" width=\"45.000000\" height=\"45.000000\" style=\"stroke: none;\" fill=\"#ffce9e\" /><use xlink:href=\"#black-pawn\" transform=\"translate(335.000000, 65.000000) scale(1.000000 1.000000)\" /><rect x=\"20.000000\" y=\"20.000000\" class=\"square light a8\" width=\"45.000000\" height=\"45.000000\" style=\"stroke: none;\" fill=\"#ffce9e\" /><rect x=\"65.000000\" y=\"20.000000\" class=\"square dark b8\" width=\"45.000000\" height=\"45.000000\" style=\"stroke: none;\" fill=\"#d18b47\" /><rect x=\"110.000000\" y=\"20.000000\" class=\"square light c8\" width=\"45.000000\" height=\"45.000000\" style=\"stroke: none;\" fill=\"#ffce9e\" /><use xlink:href=\"#black-king\" transform=\"translate(110.000000, 20.000000) scale(1.000000 1.000000)\" /><rect x=\"155.000000\" y=\"20.000000\" class=\"square dark d8\" width=\"45.000000\" height=\"45.000000\" style=\"stroke: none;\" fill=\"#d18b47\" /><use xlink:href=\"#black-rook\" transform=\"translate(155.000000, 20.000000) scale(1.000000 1.000000)\" /><rect x=\"200.000000\" y=\"20.000000\" class=\"square light e8\" width=\"45.000000\" height=\"45.000000\" style=\"stroke: none;\" fill=\"#ffce9e\" /><rect x=\"245.000000\" y=\"20.000000\" class=\"square dark f8\" width=\"45.000000\" height=\"45.000000\" style=\"stroke: none;\" fill=\"#d18b47\" /><rect x=\"290.000000\" y=\"20.000000\" class=\"square light g8\" width=\"45.000000\" height=\"45.000000\" style=\"stroke: none;\" fill=\"#ffce9e\" /><use xlink:href=\"#black-knight\" transform=\"translate(290.000000, 20.000000) scale(1.000000 1.000000)\" /><rect x=\"335.000000\" y=\"20.000000\" class=\"square dark h8\" width=\"45.000000\" height=\"45.000000\" style=\"stroke: none;\" fill=\"#d18b47\" /><use xlink:href=\"#black-rook\" transform=\"translate(335.000000, 20.000000) scale(1.000000 1.000000)\" /><text x=\"42\" y=\"10\" text-anchor=\"middle\" alignment-baseline=\"middle\" font-size=\"14\">a</text><text x=\"42\" y=\"390\" text-anchor=\"middle\" alignment-baseline=\"middle\" font-size=\"14\">a</text><text x=\"87\" y=\"10\" text-anchor=\"middle\" alignment-baseline=\"middle\" font-size=\"14\">b</text><text x=\"87\" y=\"390\" text-anchor=\"middle\" alignment-baseline=\"middle\" font-size=\"14\">b</text><text x=\"132\" y=\"10\" text-anchor=\"middle\" alignment-baseline=\"middle\" font-size=\"14\">c</text><text x=\"132\" y=\"390\" text-anchor=\"middle\" alignment-baseline=\"middle\" font-size=\"14\">c</text><text x=\"177\" y=\"10\" text-anchor=\"middle\" alignment-baseline=\"middle\" font-size=\"14\">d</text><text x=\"177\" y=\"390\" text-anchor=\"middle\" alignment-baseline=\"middle\" font-size=\"14\">d</text><text x=\"222\" y=\"10\" text-anchor=\"middle\" alignment-baseline=\"middle\" font-size=\"14\">e</text><text x=\"222\" y=\"390\" text-anchor=\"middle\" alignment-baseline=\"middle\" font-size=\"14\">e</text><text x=\"267\" y=\"10\" text-anchor=\"middle\" alignment-baseline=\"middle\" font-size=\"14\">f</text><text x=\"267\" y=\"390\" text-anchor=\"middle\" alignment-baseline=\"middle\" font-size=\"14\">f</text><text x=\"312\" y=\"10\" text-anchor=\"middle\" alignment-baseline=\"middle\" font-size=\"14\">g</text><text x=\"312\" y=\"390\" text-anchor=\"middle\" alignment-baseline=\"middle\" font-size=\"14\">g</text><text x=\"357\" y=\"10\" text-anchor=\"middle\" alignment-baseline=\"middle\" font-size=\"14\">h</text><text x=\"357\" y=\"390\" text-anchor=\"middle\" alignment-baseline=\"middle\" font-size=\"14\">h</text><text x=\"10\" y=\"357\" text-anchor=\"middle\" alignment-baseline=\"middle\" font-size=\"14\">1</text><text x=\"390\" y=\"357\" text-anchor=\"middle\" alignment-baseline=\"middle\" font-size=\"14\">1</text><text x=\"10\" y=\"312\" text-anchor=\"middle\" alignment-baseline=\"middle\" font-size=\"14\">2</text><text x=\"390\" y=\"312\" text-anchor=\"middle\" alignment-baseline=\"middle\" font-size=\"14\">2</text><text x=\"10\" y=\"267\" text-anchor=\"middle\" alignment-baseline=\"middle\" font-size=\"14\">3</text><text x=\"390\" y=\"267\" text-anchor=\"middle\" alignment-baseline=\"middle\" font-size=\"14\">3</text><text x=\"10\" y=\"222\" text-anchor=\"middle\" alignment-baseline=\"middle\" font-size=\"14\">4</text><text x=\"390\" y=\"222\" text-anchor=\"middle\" alignment-baseline=\"middle\" font-size=\"14\">4</text><text x=\"10\" y=\"177\" text-anchor=\"middle\" alignment-baseline=\"middle\" font-size=\"14\">5</text><text x=\"390\" y=\"177\" text-anchor=\"middle\" alignment-baseline=\"middle\" font-size=\"14\">5</text><text x=\"10\" y=\"132\" text-anchor=\"middle\" alignment-baseline=\"middle\" font-size=\"14\">6</text><text x=\"390\" y=\"132\" text-anchor=\"middle\" alignment-baseline=\"middle\" font-size=\"14\">6</text><text x=\"10\" y=\"87\" text-anchor=\"middle\" alignment-baseline=\"middle\" font-size=\"14\">7</text><text x=\"390\" y=\"87\" text-anchor=\"middle\" alignment-baseline=\"middle\" font-size=\"14\">7</text><text x=\"10\" y=\"42\" text-anchor=\"middle\" alignment-baseline=\"middle\" font-size=\"14\">8</text><text x=\"390\" y=\"42\" text-anchor=\"middle\" alignment-baseline=\"middle\" font-size=\"14\">8</text></svg>"
      ],
      "text/plain": [
       "Board('2kr2nr/pp1n1ppp/4Q3/8/1P1P1B2/2N4P/2PKBPP1/7q b KQkq - 0 10')"
      ]
     },
     "execution_count": 59,
     "metadata": {},
     "output_type": "execute_result"
    }
   ],
   "source": [
    "m = chess.Board('2kr2nr/pp1n1ppp/4p3/8/1P1PQB2/2N4P/2PKBPP1/7q w KQkq - 0 10')\n",
    "anthony_joshua(m)"
   ]
  }
 ],
 "metadata": {
  "anaconda-cloud": {},
  "kernelspec": {
   "display_name": "Python [default]",
   "language": "python",
   "name": "python3"
  },
  "language_info": {
   "codemirror_mode": {
    "name": "ipython",
    "version": 3
   },
   "file_extension": ".py",
   "mimetype": "text/x-python",
   "name": "python",
   "nbconvert_exporter": "python",
   "pygments_lexer": "ipython3",
   "version": "3.5.2"
  }
 },
 "nbformat": 4,
 "nbformat_minor": 1
}
